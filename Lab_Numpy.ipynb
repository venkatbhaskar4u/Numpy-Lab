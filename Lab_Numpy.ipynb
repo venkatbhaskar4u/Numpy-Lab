{
 "cells": [
  {
   "cell_type": "markdown",
   "metadata": {},
   "source": [
    "### Vamshi Krishna Meriga"
   ]
  },
  {
   "cell_type": "markdown",
   "metadata": {},
   "source": [
    "# ISM 5136 - Data Analytics and Mining for Business\n",
    "\n",
    "## Lab Session: Numpy Introduction"
   ]
  },
  {
   "cell_type": "markdown",
   "metadata": {},
   "source": [
    "### Overview:\n",
    "This lab covers operations related to basic Numpy operations and methods / functions."
   ]
  },
  {
   "cell_type": "markdown",
   "metadata": {},
   "source": [
    "### Task:\n",
    "The code cells in this notebook have been left blank. Your task is to complete these cells and provide the execution results. The corresponding question text for each code cell is provided above the cell. Once you have completed the lab, you should publish your notebook code (the code in the .ipynb file) as a \"<u>Secret Gist</u>\" on your GitHub repository and obtain the Gist ID.\n",
    "\n",
    "### Submission Format:\n",
    "There are two deliverables of this lab: 1) the Gist ID and 2) the completed .ipynb file. Both of these should be submitted on Canvas using the corresponding lab submission link by the due date indicated on Canvas.\n",
    "\n",
    "### Important: Do <u>not</u> forget to run the cells before submitting your work.\n"
   ]
  },
  {
   "cell_type": "markdown",
   "metadata": {},
   "source": [
    "### Questions: Please note that there are multiple steps in each question. You can run each step individually (before moving on to the next one) to make sure that your results are correct."
   ]
  },
  {
   "cell_type": "markdown",
   "metadata": {},
   "source": [
    "#### 1. Please complete the steps below.\n",
    "* Create an array (Numpy ndarray) of integers between 0 and 10.\n",
    "* Replace the even numbers in the array with -1 and print out the result.\n",
    "\n",
    "##### Hints:\n",
    "1. <span style=\"color: black; background: black; span:hover { color: white}\">You can use fancy or boolean indexing (i.e., pass an array to the original array as an index) and do the assignment in the same line</span>"
   ]
  },
  {
   "cell_type": "code",
   "execution_count": 2,
   "metadata": {},
   "outputs": [
    {
     "data": {
      "text/plain": [
       "array([1, 2, 3, 4, 5, 6, 7, 8, 9])"
      ]
     },
     "execution_count": 2,
     "metadata": {},
     "output_type": "execute_result"
    }
   ],
   "source": [
    "import numpy as np\n",
    "a = np.arange(1,10)\n",
    "a"
   ]
  },
  {
   "cell_type": "code",
   "execution_count": 3,
   "metadata": {},
   "outputs": [
    {
     "data": {
      "text/plain": [
       "array([ 1, -1,  3, -1,  5, -1,  7, -1,  9])"
      ]
     },
     "execution_count": 3,
     "metadata": {},
     "output_type": "execute_result"
    }
   ],
   "source": [
    "a[a%2==0]=-1\n",
    "a"
   ]
  },
  {
   "cell_type": "markdown",
   "metadata": {},
   "source": [
    "#### 2. Please complete the steps below.\n",
    "* Create an array of integers between 0 and 30.\n",
    "* Obtain all the elements that are greater than 10 and that can be divided by 9 from this array. Store the output as a <u>list</u> and print it out."
   ]
  },
  {
   "cell_type": "code",
   "execution_count": 5,
   "metadata": {},
   "outputs": [],
   "source": [
    "a = np.arange(1,30)\n",
    "b=[]\n",
    "for i in a:\n",
    "    if i>10 and i%9==0:\n",
    "        b.append(i)"
   ]
  },
  {
   "cell_type": "code",
   "execution_count": 35,
   "metadata": {},
   "outputs": [
    {
     "name": "stdout",
     "output_type": "stream",
     "text": [
      "[18, 27]\n"
     ]
    }
   ],
   "source": [
    "print(b)"
   ]
  },
  {
   "cell_type": "markdown",
   "metadata": {},
   "source": [
    "#### 3. Please complete the steps below.\n",
    "* Create a 2D array in the following form:<br>\n",
    "[[1, 5, 12], <br>\n",
    "[3, 2, 8], <br>\n",
    "[19, 4, 9]]\n",
    "* Swap columns 1 and 3 and copy the re-arranged data into a new array. Print out the new array.\n",
    "* Swap rows 2 and 3 and copy the re-arranged data into a new array. Print out the new array.\n",
    "* Sort the rows in the original array by the 2nd column, while preserving the relationship within row values.\n",
    "  * Notice that a simple sort method/function would not work here as by default \"sort\" treats each row/column as independent.\n",
    "  * Hint: <span style=\"color: black; background: black; span:hover { color: white}\">You can use argsort to find sorted indices and then pass these values to the array using fancy indexing.</span>"
   ]
  },
  {
   "cell_type": "code",
   "execution_count": 14,
   "metadata": {},
   "outputs": [
    {
     "data": {
      "text/plain": [
       "8"
      ]
     },
     "execution_count": 14,
     "metadata": {},
     "output_type": "execute_result"
    }
   ],
   "source": [
    "import numpy as np\n",
    "arr = np.array([[1,5,12],[3,2,8],[19,4,9]])\n"
   ]
  },
  {
   "cell_type": "code",
   "execution_count": 6,
   "metadata": {},
   "outputs": [
    {
     "data": {
      "text/plain": [
       "3"
      ]
     },
     "execution_count": 6,
     "metadata": {},
     "output_type": "execute_result"
    }
   ],
   "source": [
    "len(arr)"
   ]
  },
  {
   "cell_type": "code",
   "execution_count": 17,
   "metadata": {},
   "outputs": [
    {
     "name": "stdout",
     "output_type": "stream",
     "text": [
      "[[12  5  1]\n",
      " [ 8  2  3]\n",
      " [ 9  4 19]]\n",
      "[[12  5  1]\n",
      " [ 9  4 19]\n",
      " [ 8  2  3]]\n",
      "[[ 8  2  3]\n",
      " [ 9  4 19]\n",
      " [12  5  1]]\n"
     ]
    }
   ],
   "source": [
    "arr = np.array([[1,5,12],[3,2,8],[19,4,9]])\n",
    "k=arr\n",
    "k[:,[0,2]]=k[:,[2,0]]\n",
    "print(k)\n",
    "p=arr\n",
    "p[[1,2],:]=p[[2,1],:]\n",
    "print(p)\n",
    "c=p\n",
    "c=c[c[:,1].argsort()]\n",
    "print(c)\n"
   ]
  },
  {
   "cell_type": "code",
   "execution_count": null,
   "metadata": {},
   "outputs": [],
   "source": []
  },
  {
   "cell_type": "code",
   "execution_count": 82,
   "metadata": {},
   "outputs": [
    {
     "data": {
      "text/plain": [
       "array([[ 1,  5, 12],\n",
       "       [ 3,  2,  8],\n",
       "       [19,  4,  9]])"
      ]
     },
     "execution_count": 82,
     "metadata": {},
     "output_type": "execute_result"
    }
   ],
   "source": [
    "arr[:,[0,2]]=arr[:,[2,0]]\n",
    "arr"
   ]
  },
  {
   "cell_type": "markdown",
   "metadata": {},
   "source": [
    "#### 4. Please complete the steps below.\n",
    "* Initialize two objects: 1) a 10x2 numpy array filled with zeros, 2) a list of integers between 10 and 20.\n",
    "* Iterate over the list (for loop) and modify the values in the array as follows:\n",
    "  * If the list element is an even number, assign value 1 to the 1st column of the corresponding index in the array\n",
    "  * If the list element is an odd number, assign value 1 to the 2nd column of the corresponding index in the array\n",
    "* For instance, the first element in the list is 10, an even number, therefore array[0,0] should be 1.\n",
    "* Print out the modified array."
   ]
  },
  {
   "cell_type": "code",
   "execution_count": 21,
   "metadata": {},
   "outputs": [
    {
     "data": {
      "text/plain": [
       "array([[1., 0.],\n",
       "       [0., 1.],\n",
       "       [1., 0.],\n",
       "       [0., 1.],\n",
       "       [1., 0.],\n",
       "       [0., 1.],\n",
       "       [1., 0.],\n",
       "       [0., 1.],\n",
       "       [1., 0.],\n",
       "       [0., 1.]])"
      ]
     },
     "execution_count": 21,
     "metadata": {},
     "output_type": "execute_result"
    }
   ],
   "source": [
    "arr4 = np.zeros((10,2))\n",
    "a=[i for i in range(10,20)]\n",
    "for i in range(len(a)):\n",
    "    if a[i]%2==0:\n",
    "        arr4[i][0]=1\n",
    "    else:\n",
    "        arr4[i][1]=1\n",
    "arr4"
   ]
  },
  {
   "cell_type": "code",
   "execution_count": 84,
   "metadata": {},
   "outputs": [
    {
     "data": {
      "text/plain": [
       "array([11, 12, 13, 14, 15, 16, 17, 18, 19])"
      ]
     },
     "execution_count": 84,
     "metadata": {},
     "output_type": "execute_result"
    }
   ],
   "source": [
    "intlist = np.arange(11,20)\n",
    "intlist"
   ]
  },
  {
   "cell_type": "code",
   "execution_count": null,
   "metadata": {},
   "outputs": [],
   "source": [
    "for i in intlist:\n",
    "    if i%2==0:\n",
    "        arr4=()"
   ]
  },
  {
   "cell_type": "markdown",
   "metadata": {},
   "source": [
    "#### 5. Please complete the steps below.\n",
    "* Initialize a 1D array with the following integers: 15,12,2,43,12,6,6,15,8,2\n",
    "* Some of the numbers above are repeated. Return a new array that includes all the numbers from the original array, but without any duplicates.\n",
    "* Find the duplicated elements in the original array and print them out.\n",
    "\n",
    "##### Hints:\n",
    "1. <span style=\"color: black; background: black; span:hover { color: white}\">You can use the unique() function and its parameters.</span>"
   ]
  },
  {
   "cell_type": "code",
   "execution_count": 53,
   "metadata": {},
   "outputs": [],
   "source": [
    "arr1 = np.array([15,12,2,43,12,6,6,15,8,2])"
   ]
  },
  {
   "cell_type": "code",
   "execution_count": 54,
   "metadata": {},
   "outputs": [
    {
     "data": {
      "text/plain": [
       "array([ 2,  6,  8, 12, 15, 43])"
      ]
     },
     "execution_count": 54,
     "metadata": {},
     "output_type": "execute_result"
    }
   ],
   "source": [
    "uniques,dup = np.unique(arr1,return_counts=True)\n",
    "uniques"
   ]
  },
  {
   "cell_type": "code",
   "execution_count": 55,
   "metadata": {},
   "outputs": [
    {
     "data": {
      "text/plain": [
       "array([ 2,  6, 12, 15])"
      ]
     },
     "execution_count": 55,
     "metadata": {},
     "output_type": "execute_result"
    }
   ],
   "source": [
    "duplicates = uniques[dup>1]\n",
    "duplicates"
   ]
  },
  {
   "cell_type": "markdown",
   "metadata": {},
   "source": [
    "#### 6. Data Question: Import the \"iris_full.csv\" dataset into a numpy array, while skipping the 1st row (feature names). The data contains 50 samples from each of three species of Iris flowers (Setosa, Verginica, and Versicolor). Four features were measured for each sample."
   ]
  },
  {
   "cell_type": "code",
   "execution_count": 24,
   "metadata": {},
   "outputs": [],
   "source": [
    "#arr2 = np.loadtxt('C:\\Users\\VenkatBhaskar\\Downloads\\iris_full.csv',delimiter=',',skiprows=1,dtype='str')\n",
    "arr2=np.loadtxt(\"C:/Users/VenkatBhaskar/Downloads/iris_full.csv\",delimiter=',',skiprows=1,dtype='str')"
   ]
  },
  {
   "cell_type": "code",
   "execution_count": 63,
   "metadata": {},
   "outputs": [
    {
     "data": {
      "text/plain": [
       "array([['1', '0.2', '1.4', '3.5', '5.1', 'Setosa'],\n",
       "       ['1', '0.2', '1.4', '3', '4.9', 'Setosa'],\n",
       "       ['1', '0.2', '1.3', '3.2', '4.7', 'Setosa'],\n",
       "       ['1', '0.2', '1.5', '3.1', '4.6', 'Setosa'],\n",
       "       ['1', '0.2', '1.4', '3.6', '5', 'Setosa'],\n",
       "       ['1', '0.4', '1.7', '3.9', '5.4', 'Setosa'],\n",
       "       ['1', '0.3', '1.4', '3.4', '4.6', 'Setosa'],\n",
       "       ['1', '0.2', '1.5', '3.4', '5', 'Setosa'],\n",
       "       ['1', '0.2', '1.4', '2.9', '4.4', 'Setosa'],\n",
       "       ['1', '0.1', '1.5', '3.1', '4.9', 'Setosa'],\n",
       "       ['1', '0.2', '1.5', '3.7', '5.4', 'Setosa'],\n",
       "       ['1', '0.2', '1.6', '3.4', '4.8', 'Setosa'],\n",
       "       ['1', '0.1', '1.4', '3', '4.8', 'Setosa'],\n",
       "       ['1', '0.1', '1.1', '3', '4.3', 'Setosa'],\n",
       "       ['1', '0.2', '1.2', '4', '5.8', 'Setosa'],\n",
       "       ['1', '0.4', '1.5', '4.4', '5.7', 'Setosa'],\n",
       "       ['1', '0.4', '1.3', '3.9', '5.4', 'Setosa'],\n",
       "       ['1', '0.3', '1.4', '3.5', '5.1', 'Setosa'],\n",
       "       ['1', '0.3', '1.7', '3.8', '5.7', 'Setosa'],\n",
       "       ['1', '0.3', '1.5', '3.8', '5.1', 'Setosa'],\n",
       "       ['1', '0.2', '1.7', '3.4', '5.4', 'Setosa'],\n",
       "       ['1', '0.4', '1.5', '3.7', '5.1', 'Setosa'],\n",
       "       ['1', '0.2', '1', '3.6', '4.6', 'Setosa'],\n",
       "       ['1', '0.5', '1.7', '3.3', '5.1', 'Setosa'],\n",
       "       ['1', '0.2', '1.9', '3.4', '4.8', 'Setosa'],\n",
       "       ['1', '0.2', '1.6', '3', '5', 'Setosa'],\n",
       "       ['1', '0.4', '1.6', '3.4', '5', 'Setosa'],\n",
       "       ['1', '0.2', '1.5', '3.5', '5.2', 'Setosa'],\n",
       "       ['1', '0.2', '1.4', '3.4', '5.2', 'Setosa'],\n",
       "       ['1', '0.2', '1.6', '3.2', '4.7', 'Setosa'],\n",
       "       ['1', '0.2', '1.6', '3.1', '4.8', 'Setosa'],\n",
       "       ['1', '0.4', '1.5', '3.4', '5.4', 'Setosa'],\n",
       "       ['1', '0.1', '1.5', '4.1', '5.2', 'Setosa'],\n",
       "       ['1', '0.2', '1.4', '4.2', '5.5', 'Setosa'],\n",
       "       ['1', '0.2', '1.5', '3.1', '4.9', 'Setosa'],\n",
       "       ['1', '0.2', '1.2', '3.2', '5', 'Setosa'],\n",
       "       ['1', '0.2', '1.3', '3.5', '5.5', 'Setosa'],\n",
       "       ['1', '0.1', '1.4', '3.6', '4.9', 'Setosa'],\n",
       "       ['1', '0.2', '1.3', '3', '4.4', 'Setosa'],\n",
       "       ['1', '0.2', '1.5', '3.4', '5.1', 'Setosa'],\n",
       "       ['1', '0.3', '1.3', '3.5', '5', 'Setosa'],\n",
       "       ['1', '0.3', '1.3', '2.3', '4.5', 'Setosa'],\n",
       "       ['1', '0.2', '1.3', '3.2', '4.4', 'Setosa'],\n",
       "       ['1', '0.6', '1.6', '3.5', '5', 'Setosa'],\n",
       "       ['1', '0.4', '1.9', '3.8', '5.1', 'Setosa'],\n",
       "       ['1', '0.3', '1.4', '3', '4.8', 'Setosa'],\n",
       "       ['1', '0.2', '1.6', '3.8', '5.1', 'Setosa'],\n",
       "       ['1', '0.2', '1.4', '3.2', '4.6', 'Setosa'],\n",
       "       ['1', '0.2', '1.5', '3.7', '5.3', 'Setosa'],\n",
       "       ['1', '0.2', '1.4', '3.3', '5', 'Setosa'],\n",
       "       ['2', '1.4', '4.7', '3.2', '7', 'Versicolor'],\n",
       "       ['2', '1.5', '4.5', '3.2', '6.4', 'Versicolor'],\n",
       "       ['2', '1.5', '4.9', '3.1', '6.9', 'Versicolor'],\n",
       "       ['2', '1.3', '4', '2.3', '5.5', 'Versicolor'],\n",
       "       ['2', '1.5', '4.6', '2.8', '6.5', 'Versicolor'],\n",
       "       ['2', '1.3', '4.5', '2.8', '5.7', 'Versicolor'],\n",
       "       ['2', '1.6', '4.7', '3.3', '6.3', 'Versicolor'],\n",
       "       ['2', '1', '3.3', '2.4', '4.9', 'Versicolor'],\n",
       "       ['2', '1.3', '4.6', '2.9', '6.6', 'Versicolor'],\n",
       "       ['2', '1.4', '3.9', '2.7', '5.2', 'Versicolor'],\n",
       "       ['2', '1', '3.5', '2', '5', 'Versicolor'],\n",
       "       ['2', '1.5', '4.2', '3', '5.9', 'Versicolor'],\n",
       "       ['2', '1', '4', '2.2', '6', 'Versicolor'],\n",
       "       ['2', '1.4', '4.7', '2.9', '6.1', 'Versicolor'],\n",
       "       ['2', '1.3', '3.6', '2.9', '5.6', 'Versicolor'],\n",
       "       ['2', '1.4', '4.4', '3.1', '6.7', 'Versicolor'],\n",
       "       ['2', '1.5', '4.5', '3', '5.6', 'Versicolor'],\n",
       "       ['2', '1', '4.1', '2.7', '5.8', 'Versicolor'],\n",
       "       ['2', '1.5', '4.5', '2.2', '6.2', 'Versicolor'],\n",
       "       ['2', '1.1', '3.9', '2.5', '5.6', 'Versicolor'],\n",
       "       ['2', '1.8', '4.8', '3.2', '5.9', 'Versicolor'],\n",
       "       ['2', '1.3', '4', '2.8', '6.1', 'Versicolor'],\n",
       "       ['2', '1.5', '4.9', '2.5', '6.3', 'Versicolor'],\n",
       "       ['2', '1.2', '4.7', '2.8', '6.1', 'Versicolor'],\n",
       "       ['2', '1.3', '4.3', '2.9', '6.4', 'Versicolor'],\n",
       "       ['2', '1.4', '4.4', '3', '6.6', 'Versicolor'],\n",
       "       ['2', '1.4', '4.8', '2.8', '6.8', 'Versicolor'],\n",
       "       ['2', '1.7', '5', '3', '6.7', 'Versicolor'],\n",
       "       ['2', '1.5', '4.5', '2.9', '6', 'Versicolor'],\n",
       "       ['2', '1', '3.5', '2.6', '5.7', 'Versicolor'],\n",
       "       ['2', '1.1', '3.8', '2.4', '5.5', 'Versicolor'],\n",
       "       ['2', '1', '3.7', '2.4', '5.5', 'Versicolor'],\n",
       "       ['2', '1.2', '3.9', '2.7', '5.8', 'Versicolor'],\n",
       "       ['2', '1.6', '5.1', '2.7', '6', 'Versicolor'],\n",
       "       ['2', '1.5', '4.5', '3', '5.4', 'Versicolor'],\n",
       "       ['2', '1.6', '4.5', '3.4', '6', 'Versicolor'],\n",
       "       ['2', '1.5', '4.7', '3.1', '6.7', 'Versicolor'],\n",
       "       ['2', '1.3', '4.4', '2.3', '6.3', 'Versicolor'],\n",
       "       ['2', '1.3', '4.1', '3', '5.6', 'Versicolor'],\n",
       "       ['2', '1.3', '4', '2.5', '5.5', 'Versicolor'],\n",
       "       ['2', '1.2', '4.4', '2.6', '5.5', 'Versicolor'],\n",
       "       ['2', '1.4', '4.6', '3', '6.1', 'Versicolor'],\n",
       "       ['2', '1.2', '4', '2.6', '5.8', 'Versicolor'],\n",
       "       ['2', '1', '3.3', '2.3', '5', 'Versicolor'],\n",
       "       ['2', '1.3', '4.2', '2.7', '5.6', 'Versicolor'],\n",
       "       ['2', '1.2', '4.2', '3', '5.7', 'Versicolor'],\n",
       "       ['2', '1.3', '4.2', '2.9', '5.7', 'Versicolor'],\n",
       "       ['2', '1.3', '4.3', '2.9', '6.2', 'Versicolor'],\n",
       "       ['2', '1.1', '3', '2.5', '5.1', 'Versicolor'],\n",
       "       ['2', '1.3', '4.1', '2.8', '5.7', 'Versicolor'],\n",
       "       ['3', '2.5', '6', '3.3', '6.3', 'Verginica'],\n",
       "       ['3', '1.9', '5.1', '2.7', '5.8', 'Verginica'],\n",
       "       ['3', '2.1', '5.9', '3', '7.1', 'Verginica'],\n",
       "       ['3', '1.8', '5.6', '2.9', '6.3', 'Verginica'],\n",
       "       ['3', '2.2', '5.8', '3', '6.5', 'Verginica'],\n",
       "       ['3', '2.1', '6.6', '3', '7.6', 'Verginica'],\n",
       "       ['3', '1.7', '4.5', '2.5', '4.9', 'Verginica'],\n",
       "       ['3', '1.8', '6.3', '2.9', '7.3', 'Verginica'],\n",
       "       ['3', '1.8', '5.8', '2.5', '6.7', 'Verginica'],\n",
       "       ['3', '2.5', '6.1', '3.6', '7.2', 'Verginica'],\n",
       "       ['3', '2', '5.1', '3.2', '6.5', 'Verginica'],\n",
       "       ['3', '1.9', '5.3', '2.7', '6.4', 'Verginica'],\n",
       "       ['3', '2.1', '5.5', '3', '6.8', 'Verginica'],\n",
       "       ['3', '2', '5', '2.5', '5.7', 'Verginica'],\n",
       "       ['3', '2.4', '5.1', '2.8', '5.8', 'Verginica'],\n",
       "       ['3', '2.3', '5.3', '3.2', '6.4', 'Verginica'],\n",
       "       ['3', '1.8', '5.5', '3', '6.5', 'Verginica'],\n",
       "       ['3', '2.2', '6.7', '3.8', '7.7', 'Verginica'],\n",
       "       ['3', '2.3', '6.9', '2.6', '7.7', 'Verginica'],\n",
       "       ['3', '1.5', '5', '2.2', '6', 'Verginica'],\n",
       "       ['3', '2.3', '5.7', '3.2', '6.9', 'Verginica'],\n",
       "       ['3', '2', '4.9', '2.8', '5.6', 'Verginica'],\n",
       "       ['3', '2', '6.7', '2.8', '7.7', 'Verginica'],\n",
       "       ['3', '1.8', '4.9', '2.7', '6.3', 'Verginica'],\n",
       "       ['3', '2.1', '5.7', '3.3', '6.7', 'Verginica'],\n",
       "       ['3', '1.8', '6', '3.2', '7.2', 'Verginica'],\n",
       "       ['3', '1.8', '4.8', '2.8', '6.2', 'Verginica'],\n",
       "       ['3', '1.8', '4.9', '3', '6.1', 'Verginica'],\n",
       "       ['3', '2.1', '5.6', '2.8', '6.4', 'Verginica'],\n",
       "       ['3', '1.6', '5.8', '3', '7.2', 'Verginica'],\n",
       "       ['3', '1.9', '6.1', '2.8', '7.4', 'Verginica'],\n",
       "       ['3', '2', '6.4', '3.8', '7.9', 'Verginica'],\n",
       "       ['3', '2.2', '5.6', '2.8', '6.4', 'Verginica'],\n",
       "       ['3', '1.5', '5.1', '2.8', '6.3', 'Verginica'],\n",
       "       ['3', '1.4', '5.6', '2.6', '6.1', 'Verginica'],\n",
       "       ['3', '2.3', '6.1', '3', '7.7', 'Verginica'],\n",
       "       ['3', '2.4', '5.6', '3.4', '6.3', 'Verginica'],\n",
       "       ['3', '1.8', '5.5', '3.1', '6.4', 'Verginica'],\n",
       "       ['3', '1.8', '4.8', '3', '6', 'Verginica'],\n",
       "       ['3', '2.1', '5.4', '3.1', '6.9', 'Verginica'],\n",
       "       ['3', '2.4', '5.6', '3.1', '6.7', 'Verginica'],\n",
       "       ['3', '2.3', '5.1', '3.1', '6.9', 'Verginica'],\n",
       "       ['3', '1.9', '5.1', '2.7', '5.8', 'Verginica'],\n",
       "       ['3', '2.3', '5.9', '3.2', '6.8', 'Verginica'],\n",
       "       ['3', '2.5', '5.7', '3.3', '6.7', 'Verginica'],\n",
       "       ['3', '2.3', '5.2', '3', '6.7', 'Verginica'],\n",
       "       ['3', '1.9', '5', '2.5', '6.3', 'Verginica'],\n",
       "       ['3', '2', '5.2', '3', '6.5', 'Verginica'],\n",
       "       ['3', '2.3', '5.4', '3.4', '6.2', 'Verginica'],\n",
       "       ['3', '1.8', '5.1', '3', '5.9', 'Verginica']], dtype='<U10')"
      ]
     },
     "execution_count": 63,
     "metadata": {},
     "output_type": "execute_result"
    }
   ],
   "source": [
    "arr2"
   ]
  },
  {
   "cell_type": "markdown",
   "metadata": {},
   "source": [
    "#### 6.1. Please complete the steps below:\n",
    "* Subset columns 2 to 5 into a new array called x. Then, convert array x to \"float\" data type.\n",
    "* Subset the last column into a new array called yStr."
   ]
  },
  {
   "cell_type": "code",
   "execution_count": 26,
   "metadata": {},
   "outputs": [
    {
     "data": {
      "text/plain": [
       "array([[0.2, 1.4, 3.5, 5.1],\n",
       "       [0.2, 1.4, 3. , 4.9],\n",
       "       [0.2, 1.3, 3.2, 4.7],\n",
       "       [0.2, 1.5, 3.1, 4.6],\n",
       "       [0.2, 1.4, 3.6, 5. ],\n",
       "       [0.4, 1.7, 3.9, 5.4],\n",
       "       [0.3, 1.4, 3.4, 4.6],\n",
       "       [0.2, 1.5, 3.4, 5. ],\n",
       "       [0.2, 1.4, 2.9, 4.4],\n",
       "       [0.1, 1.5, 3.1, 4.9],\n",
       "       [0.2, 1.5, 3.7, 5.4],\n",
       "       [0.2, 1.6, 3.4, 4.8],\n",
       "       [0.1, 1.4, 3. , 4.8],\n",
       "       [0.1, 1.1, 3. , 4.3],\n",
       "       [0.2, 1.2, 4. , 5.8],\n",
       "       [0.4, 1.5, 4.4, 5.7],\n",
       "       [0.4, 1.3, 3.9, 5.4],\n",
       "       [0.3, 1.4, 3.5, 5.1],\n",
       "       [0.3, 1.7, 3.8, 5.7],\n",
       "       [0.3, 1.5, 3.8, 5.1],\n",
       "       [0.2, 1.7, 3.4, 5.4],\n",
       "       [0.4, 1.5, 3.7, 5.1],\n",
       "       [0.2, 1. , 3.6, 4.6],\n",
       "       [0.5, 1.7, 3.3, 5.1],\n",
       "       [0.2, 1.9, 3.4, 4.8],\n",
       "       [0.2, 1.6, 3. , 5. ],\n",
       "       [0.4, 1.6, 3.4, 5. ],\n",
       "       [0.2, 1.5, 3.5, 5.2],\n",
       "       [0.2, 1.4, 3.4, 5.2],\n",
       "       [0.2, 1.6, 3.2, 4.7],\n",
       "       [0.2, 1.6, 3.1, 4.8],\n",
       "       [0.4, 1.5, 3.4, 5.4],\n",
       "       [0.1, 1.5, 4.1, 5.2],\n",
       "       [0.2, 1.4, 4.2, 5.5],\n",
       "       [0.2, 1.5, 3.1, 4.9],\n",
       "       [0.2, 1.2, 3.2, 5. ],\n",
       "       [0.2, 1.3, 3.5, 5.5],\n",
       "       [0.1, 1.4, 3.6, 4.9],\n",
       "       [0.2, 1.3, 3. , 4.4],\n",
       "       [0.2, 1.5, 3.4, 5.1],\n",
       "       [0.3, 1.3, 3.5, 5. ],\n",
       "       [0.3, 1.3, 2.3, 4.5],\n",
       "       [0.2, 1.3, 3.2, 4.4],\n",
       "       [0.6, 1.6, 3.5, 5. ],\n",
       "       [0.4, 1.9, 3.8, 5.1],\n",
       "       [0.3, 1.4, 3. , 4.8],\n",
       "       [0.2, 1.6, 3.8, 5.1],\n",
       "       [0.2, 1.4, 3.2, 4.6],\n",
       "       [0.2, 1.5, 3.7, 5.3],\n",
       "       [0.2, 1.4, 3.3, 5. ],\n",
       "       [1.4, 4.7, 3.2, 7. ],\n",
       "       [1.5, 4.5, 3.2, 6.4],\n",
       "       [1.5, 4.9, 3.1, 6.9],\n",
       "       [1.3, 4. , 2.3, 5.5],\n",
       "       [1.5, 4.6, 2.8, 6.5],\n",
       "       [1.3, 4.5, 2.8, 5.7],\n",
       "       [1.6, 4.7, 3.3, 6.3],\n",
       "       [1. , 3.3, 2.4, 4.9],\n",
       "       [1.3, 4.6, 2.9, 6.6],\n",
       "       [1.4, 3.9, 2.7, 5.2],\n",
       "       [1. , 3.5, 2. , 5. ],\n",
       "       [1.5, 4.2, 3. , 5.9],\n",
       "       [1. , 4. , 2.2, 6. ],\n",
       "       [1.4, 4.7, 2.9, 6.1],\n",
       "       [1.3, 3.6, 2.9, 5.6],\n",
       "       [1.4, 4.4, 3.1, 6.7],\n",
       "       [1.5, 4.5, 3. , 5.6],\n",
       "       [1. , 4.1, 2.7, 5.8],\n",
       "       [1.5, 4.5, 2.2, 6.2],\n",
       "       [1.1, 3.9, 2.5, 5.6],\n",
       "       [1.8, 4.8, 3.2, 5.9],\n",
       "       [1.3, 4. , 2.8, 6.1],\n",
       "       [1.5, 4.9, 2.5, 6.3],\n",
       "       [1.2, 4.7, 2.8, 6.1],\n",
       "       [1.3, 4.3, 2.9, 6.4],\n",
       "       [1.4, 4.4, 3. , 6.6],\n",
       "       [1.4, 4.8, 2.8, 6.8],\n",
       "       [1.7, 5. , 3. , 6.7],\n",
       "       [1.5, 4.5, 2.9, 6. ],\n",
       "       [1. , 3.5, 2.6, 5.7],\n",
       "       [1.1, 3.8, 2.4, 5.5],\n",
       "       [1. , 3.7, 2.4, 5.5],\n",
       "       [1.2, 3.9, 2.7, 5.8],\n",
       "       [1.6, 5.1, 2.7, 6. ],\n",
       "       [1.5, 4.5, 3. , 5.4],\n",
       "       [1.6, 4.5, 3.4, 6. ],\n",
       "       [1.5, 4.7, 3.1, 6.7],\n",
       "       [1.3, 4.4, 2.3, 6.3],\n",
       "       [1.3, 4.1, 3. , 5.6],\n",
       "       [1.3, 4. , 2.5, 5.5],\n",
       "       [1.2, 4.4, 2.6, 5.5],\n",
       "       [1.4, 4.6, 3. , 6.1],\n",
       "       [1.2, 4. , 2.6, 5.8],\n",
       "       [1. , 3.3, 2.3, 5. ],\n",
       "       [1.3, 4.2, 2.7, 5.6],\n",
       "       [1.2, 4.2, 3. , 5.7],\n",
       "       [1.3, 4.2, 2.9, 5.7],\n",
       "       [1.3, 4.3, 2.9, 6.2],\n",
       "       [1.1, 3. , 2.5, 5.1],\n",
       "       [1.3, 4.1, 2.8, 5.7],\n",
       "       [2.5, 6. , 3.3, 6.3],\n",
       "       [1.9, 5.1, 2.7, 5.8],\n",
       "       [2.1, 5.9, 3. , 7.1],\n",
       "       [1.8, 5.6, 2.9, 6.3],\n",
       "       [2.2, 5.8, 3. , 6.5],\n",
       "       [2.1, 6.6, 3. , 7.6],\n",
       "       [1.7, 4.5, 2.5, 4.9],\n",
       "       [1.8, 6.3, 2.9, 7.3],\n",
       "       [1.8, 5.8, 2.5, 6.7],\n",
       "       [2.5, 6.1, 3.6, 7.2],\n",
       "       [2. , 5.1, 3.2, 6.5],\n",
       "       [1.9, 5.3, 2.7, 6.4],\n",
       "       [2.1, 5.5, 3. , 6.8],\n",
       "       [2. , 5. , 2.5, 5.7],\n",
       "       [2.4, 5.1, 2.8, 5.8],\n",
       "       [2.3, 5.3, 3.2, 6.4],\n",
       "       [1.8, 5.5, 3. , 6.5],\n",
       "       [2.2, 6.7, 3.8, 7.7],\n",
       "       [2.3, 6.9, 2.6, 7.7],\n",
       "       [1.5, 5. , 2.2, 6. ],\n",
       "       [2.3, 5.7, 3.2, 6.9],\n",
       "       [2. , 4.9, 2.8, 5.6],\n",
       "       [2. , 6.7, 2.8, 7.7],\n",
       "       [1.8, 4.9, 2.7, 6.3],\n",
       "       [2.1, 5.7, 3.3, 6.7],\n",
       "       [1.8, 6. , 3.2, 7.2],\n",
       "       [1.8, 4.8, 2.8, 6.2],\n",
       "       [1.8, 4.9, 3. , 6.1],\n",
       "       [2.1, 5.6, 2.8, 6.4],\n",
       "       [1.6, 5.8, 3. , 7.2],\n",
       "       [1.9, 6.1, 2.8, 7.4],\n",
       "       [2. , 6.4, 3.8, 7.9],\n",
       "       [2.2, 5.6, 2.8, 6.4],\n",
       "       [1.5, 5.1, 2.8, 6.3],\n",
       "       [1.4, 5.6, 2.6, 6.1],\n",
       "       [2.3, 6.1, 3. , 7.7],\n",
       "       [2.4, 5.6, 3.4, 6.3],\n",
       "       [1.8, 5.5, 3.1, 6.4],\n",
       "       [1.8, 4.8, 3. , 6. ],\n",
       "       [2.1, 5.4, 3.1, 6.9],\n",
       "       [2.4, 5.6, 3.1, 6.7],\n",
       "       [2.3, 5.1, 3.1, 6.9],\n",
       "       [1.9, 5.1, 2.7, 5.8],\n",
       "       [2.3, 5.9, 3.2, 6.8],\n",
       "       [2.5, 5.7, 3.3, 6.7],\n",
       "       [2.3, 5.2, 3. , 6.7],\n",
       "       [1.9, 5. , 2.5, 6.3],\n",
       "       [2. , 5.2, 3. , 6.5],\n",
       "       [2.3, 5.4, 3.4, 6.2],\n",
       "       [1.8, 5.1, 3. , 5.9]])"
      ]
     },
     "execution_count": 26,
     "metadata": {},
     "output_type": "execute_result"
    }
   ],
   "source": [
    "x = np.array(arr2[:,1:5],dtype='float')\n",
    "x"
   ]
  },
  {
   "cell_type": "code",
   "execution_count": 27,
   "metadata": {},
   "outputs": [
    {
     "data": {
      "text/plain": [
       "array([['Setosa'],\n",
       "       ['Setosa'],\n",
       "       ['Setosa'],\n",
       "       ['Setosa'],\n",
       "       ['Setosa'],\n",
       "       ['Setosa'],\n",
       "       ['Setosa'],\n",
       "       ['Setosa'],\n",
       "       ['Setosa'],\n",
       "       ['Setosa'],\n",
       "       ['Setosa'],\n",
       "       ['Setosa'],\n",
       "       ['Setosa'],\n",
       "       ['Setosa'],\n",
       "       ['Setosa'],\n",
       "       ['Setosa'],\n",
       "       ['Setosa'],\n",
       "       ['Setosa'],\n",
       "       ['Setosa'],\n",
       "       ['Setosa'],\n",
       "       ['Setosa'],\n",
       "       ['Setosa'],\n",
       "       ['Setosa'],\n",
       "       ['Setosa'],\n",
       "       ['Setosa'],\n",
       "       ['Setosa'],\n",
       "       ['Setosa'],\n",
       "       ['Setosa'],\n",
       "       ['Setosa'],\n",
       "       ['Setosa'],\n",
       "       ['Setosa'],\n",
       "       ['Setosa'],\n",
       "       ['Setosa'],\n",
       "       ['Setosa'],\n",
       "       ['Setosa'],\n",
       "       ['Setosa'],\n",
       "       ['Setosa'],\n",
       "       ['Setosa'],\n",
       "       ['Setosa'],\n",
       "       ['Setosa'],\n",
       "       ['Setosa'],\n",
       "       ['Setosa'],\n",
       "       ['Setosa'],\n",
       "       ['Setosa'],\n",
       "       ['Setosa'],\n",
       "       ['Setosa'],\n",
       "       ['Setosa'],\n",
       "       ['Setosa'],\n",
       "       ['Setosa'],\n",
       "       ['Setosa'],\n",
       "       ['Versicolor'],\n",
       "       ['Versicolor'],\n",
       "       ['Versicolor'],\n",
       "       ['Versicolor'],\n",
       "       ['Versicolor'],\n",
       "       ['Versicolor'],\n",
       "       ['Versicolor'],\n",
       "       ['Versicolor'],\n",
       "       ['Versicolor'],\n",
       "       ['Versicolor'],\n",
       "       ['Versicolor'],\n",
       "       ['Versicolor'],\n",
       "       ['Versicolor'],\n",
       "       ['Versicolor'],\n",
       "       ['Versicolor'],\n",
       "       ['Versicolor'],\n",
       "       ['Versicolor'],\n",
       "       ['Versicolor'],\n",
       "       ['Versicolor'],\n",
       "       ['Versicolor'],\n",
       "       ['Versicolor'],\n",
       "       ['Versicolor'],\n",
       "       ['Versicolor'],\n",
       "       ['Versicolor'],\n",
       "       ['Versicolor'],\n",
       "       ['Versicolor'],\n",
       "       ['Versicolor'],\n",
       "       ['Versicolor'],\n",
       "       ['Versicolor'],\n",
       "       ['Versicolor'],\n",
       "       ['Versicolor'],\n",
       "       ['Versicolor'],\n",
       "       ['Versicolor'],\n",
       "       ['Versicolor'],\n",
       "       ['Versicolor'],\n",
       "       ['Versicolor'],\n",
       "       ['Versicolor'],\n",
       "       ['Versicolor'],\n",
       "       ['Versicolor'],\n",
       "       ['Versicolor'],\n",
       "       ['Versicolor'],\n",
       "       ['Versicolor'],\n",
       "       ['Versicolor'],\n",
       "       ['Versicolor'],\n",
       "       ['Versicolor'],\n",
       "       ['Versicolor'],\n",
       "       ['Versicolor'],\n",
       "       ['Versicolor'],\n",
       "       ['Versicolor'],\n",
       "       ['Versicolor'],\n",
       "       ['Verginica'],\n",
       "       ['Verginica'],\n",
       "       ['Verginica'],\n",
       "       ['Verginica'],\n",
       "       ['Verginica'],\n",
       "       ['Verginica'],\n",
       "       ['Verginica'],\n",
       "       ['Verginica'],\n",
       "       ['Verginica'],\n",
       "       ['Verginica'],\n",
       "       ['Verginica'],\n",
       "       ['Verginica'],\n",
       "       ['Verginica'],\n",
       "       ['Verginica'],\n",
       "       ['Verginica'],\n",
       "       ['Verginica'],\n",
       "       ['Verginica'],\n",
       "       ['Verginica'],\n",
       "       ['Verginica'],\n",
       "       ['Verginica'],\n",
       "       ['Verginica'],\n",
       "       ['Verginica'],\n",
       "       ['Verginica'],\n",
       "       ['Verginica'],\n",
       "       ['Verginica'],\n",
       "       ['Verginica'],\n",
       "       ['Verginica'],\n",
       "       ['Verginica'],\n",
       "       ['Verginica'],\n",
       "       ['Verginica'],\n",
       "       ['Verginica'],\n",
       "       ['Verginica'],\n",
       "       ['Verginica'],\n",
       "       ['Verginica'],\n",
       "       ['Verginica'],\n",
       "       ['Verginica'],\n",
       "       ['Verginica'],\n",
       "       ['Verginica'],\n",
       "       ['Verginica'],\n",
       "       ['Verginica'],\n",
       "       ['Verginica'],\n",
       "       ['Verginica'],\n",
       "       ['Verginica'],\n",
       "       ['Verginica'],\n",
       "       ['Verginica'],\n",
       "       ['Verginica'],\n",
       "       ['Verginica'],\n",
       "       ['Verginica'],\n",
       "       ['Verginica'],\n",
       "       ['Verginica']], dtype='<U10')"
      ]
     },
     "execution_count": 27,
     "metadata": {},
     "output_type": "execute_result"
    }
   ],
   "source": [
    "yStr = arr2[:,5:]\n",
    "yStr"
   ]
  },
  {
   "cell_type": "markdown",
   "metadata": {},
   "source": [
    "#### 6.2. Please complete the steps below:\n",
    "* Create an array named \"y\" that stores the integer value representations of yStr observations. In other terms, convert categorical y values to indicator ones. Each unique value in yStr should be encoded as an integer.\n",
    "  * For instance, if yStr = array([Setosa,Setosa,Verginica]), then y = array([0,0,1])\n",
    "* Do not use hard coding."
   ]
  },
  {
   "cell_type": "code",
   "execution_count": 40,
   "metadata": {},
   "outputs": [
    {
     "data": {
      "text/plain": [
       "array([[1, 0, 0],\n",
       "       [1, 0, 0],\n",
       "       [1, 0, 0],\n",
       "       [1, 0, 0],\n",
       "       [1, 0, 0],\n",
       "       [1, 0, 0],\n",
       "       [1, 0, 0],\n",
       "       [1, 0, 0],\n",
       "       [1, 0, 0],\n",
       "       [1, 0, 0],\n",
       "       [1, 0, 0],\n",
       "       [1, 0, 0],\n",
       "       [1, 0, 0],\n",
       "       [1, 0, 0],\n",
       "       [1, 0, 0],\n",
       "       [1, 0, 0],\n",
       "       [1, 0, 0],\n",
       "       [1, 0, 0],\n",
       "       [1, 0, 0],\n",
       "       [1, 0, 0],\n",
       "       [1, 0, 0],\n",
       "       [1, 0, 0],\n",
       "       [1, 0, 0],\n",
       "       [1, 0, 0],\n",
       "       [1, 0, 0],\n",
       "       [1, 0, 0],\n",
       "       [1, 0, 0],\n",
       "       [1, 0, 0],\n",
       "       [1, 0, 0],\n",
       "       [1, 0, 0],\n",
       "       [1, 0, 0],\n",
       "       [1, 0, 0],\n",
       "       [1, 0, 0],\n",
       "       [1, 0, 0],\n",
       "       [1, 0, 0],\n",
       "       [1, 0, 0],\n",
       "       [1, 0, 0],\n",
       "       [1, 0, 0],\n",
       "       [1, 0, 0],\n",
       "       [1, 0, 0],\n",
       "       [1, 0, 0],\n",
       "       [1, 0, 0],\n",
       "       [1, 0, 0],\n",
       "       [1, 0, 0],\n",
       "       [1, 0, 0],\n",
       "       [1, 0, 0],\n",
       "       [1, 0, 0],\n",
       "       [1, 0, 0],\n",
       "       [1, 0, 0],\n",
       "       [1, 0, 0],\n",
       "       [0, 0, 1],\n",
       "       [0, 0, 1],\n",
       "       [0, 0, 1],\n",
       "       [0, 0, 1],\n",
       "       [0, 0, 1],\n",
       "       [0, 0, 1],\n",
       "       [0, 0, 1],\n",
       "       [0, 0, 1],\n",
       "       [0, 0, 1],\n",
       "       [0, 0, 1],\n",
       "       [0, 0, 1],\n",
       "       [0, 0, 1],\n",
       "       [0, 0, 1],\n",
       "       [0, 0, 1],\n",
       "       [0, 0, 1],\n",
       "       [0, 0, 1],\n",
       "       [0, 0, 1],\n",
       "       [0, 0, 1],\n",
       "       [0, 0, 1],\n",
       "       [0, 0, 1],\n",
       "       [0, 0, 1],\n",
       "       [0, 0, 1],\n",
       "       [0, 0, 1],\n",
       "       [0, 0, 1],\n",
       "       [0, 0, 1],\n",
       "       [0, 0, 1],\n",
       "       [0, 0, 1],\n",
       "       [0, 0, 1],\n",
       "       [0, 0, 1],\n",
       "       [0, 0, 1],\n",
       "       [0, 0, 1],\n",
       "       [0, 0, 1],\n",
       "       [0, 0, 1],\n",
       "       [0, 0, 1],\n",
       "       [0, 0, 1],\n",
       "       [0, 0, 1],\n",
       "       [0, 0, 1],\n",
       "       [0, 0, 1],\n",
       "       [0, 0, 1],\n",
       "       [0, 0, 1],\n",
       "       [0, 0, 1],\n",
       "       [0, 0, 1],\n",
       "       [0, 0, 1],\n",
       "       [0, 0, 1],\n",
       "       [0, 0, 1],\n",
       "       [0, 0, 1],\n",
       "       [0, 0, 1],\n",
       "       [0, 0, 1],\n",
       "       [0, 0, 1],\n",
       "       [0, 0, 1],\n",
       "       [0, 1, 0],\n",
       "       [0, 1, 0],\n",
       "       [0, 1, 0],\n",
       "       [0, 1, 0],\n",
       "       [0, 1, 0],\n",
       "       [0, 1, 0],\n",
       "       [0, 1, 0],\n",
       "       [0, 1, 0],\n",
       "       [0, 1, 0],\n",
       "       [0, 1, 0],\n",
       "       [0, 1, 0],\n",
       "       [0, 1, 0],\n",
       "       [0, 1, 0],\n",
       "       [0, 1, 0],\n",
       "       [0, 1, 0],\n",
       "       [0, 1, 0],\n",
       "       [0, 1, 0],\n",
       "       [0, 1, 0],\n",
       "       [0, 1, 0],\n",
       "       [0, 1, 0],\n",
       "       [0, 1, 0],\n",
       "       [0, 1, 0],\n",
       "       [0, 1, 0],\n",
       "       [0, 1, 0],\n",
       "       [0, 1, 0],\n",
       "       [0, 1, 0],\n",
       "       [0, 1, 0],\n",
       "       [0, 1, 0],\n",
       "       [0, 1, 0],\n",
       "       [0, 1, 0],\n",
       "       [0, 1, 0],\n",
       "       [0, 1, 0],\n",
       "       [0, 1, 0],\n",
       "       [0, 1, 0],\n",
       "       [0, 1, 0],\n",
       "       [0, 1, 0],\n",
       "       [0, 1, 0],\n",
       "       [0, 1, 0],\n",
       "       [0, 1, 0],\n",
       "       [0, 1, 0],\n",
       "       [0, 1, 0],\n",
       "       [0, 1, 0],\n",
       "       [0, 1, 0],\n",
       "       [0, 1, 0],\n",
       "       [0, 1, 0],\n",
       "       [0, 1, 0],\n",
       "       [0, 1, 0],\n",
       "       [0, 1, 0],\n",
       "       [0, 1, 0],\n",
       "       [0, 1, 0]])"
      ]
     },
     "execution_count": 40,
     "metadata": {},
     "output_type": "execute_result"
    }
   ],
   "source": [
    "from sklearn.preprocessing import LabelBinarizer\n",
    "a=LabelBinarizer()\n",
    "c=a.fit_transform(yStr)\n",
    "c"
   ]
  },
  {
   "cell_type": "markdown",
   "metadata": {},
   "source": [
    "#### 6.3. Please complete the steps below:\n",
    "* Combine x and y arrays along axis 1 (horizontally) into a new array called combinedArr"
   ]
  },
  {
   "cell_type": "code",
   "execution_count": 61,
   "metadata": {},
   "outputs": [
    {
     "data": {
      "text/plain": [
       "(150, 7)"
      ]
     },
     "execution_count": 61,
     "metadata": {},
     "output_type": "execute_result"
    }
   ],
   "source": [
    "# Enter your answer to the question above in this cell\n",
    "t=np.concatenate((x,c),axis=1)\n",
    "t.shape"
   ]
  },
  {
   "cell_type": "markdown",
   "metadata": {},
   "source": [
    "#### 6.4. Please complete the steps below:\n",
    "* Split both x and y arrays into two parts (train and test). So, you should have 4 new arrays: 1) xTrain, 2)xTest, 3) yTrain, 4) yTest.\n",
    "  * 70% of the data should go into the train dataset and 30% of the data should go into the test dataset. Allocation should be made randomly.\n",
    "  * When splitting the data, the order of the observations across the x and y arrays should be preserved.\n",
    "  * For instance, if you assign the 2nd observation into the test dataset, then both xTest and yTest should include the 2nd observation from their original arrays.\n",
    "  * Do <u>NOT</u> use pre-built functions from external packages (e.g., scikit-learn). Only Numpy and plain Python functions are allowed.\n",
    "\n",
    "##### Hints:\n",
    "1. <span style=\"color: black; background: black; span:hover { color: white}\">Numpy's random.choice function might be helpful. </span>\n",
    "1. <span style=\"color: black; background: black; span:hover { color: white}\">Pay attention to sampling with replacement vs. sampling without replacement.</span>"
   ]
  },
  {
   "cell_type": "code",
   "execution_count": 68,
   "metadata": {},
   "outputs": [],
   "source": [
    "# Enter your answer to the question above in this cell.\n",
    "xTrain=t[:105,:4]\n",
    "xTest=t[105:,:4]\n",
    "yTrain=t[:105,4:]\n",
    "yTrain=t[:105,4:]"
   ]
  },
  {
   "cell_type": "markdown",
   "metadata": {},
   "source": [
    "#### 6.5. Please complete the steps below:\n",
    "* Find the mean of each column in xTest.\n",
    "* Find the maximum value of each row in xTest."
   ]
  },
  {
   "cell_type": "code",
   "execution_count": 71,
   "metadata": {},
   "outputs": [
    {
     "data": {
      "text/plain": [
       "array([7.6, 4.9, 7.3, 6.7, 7.2, 6.5, 6.4, 6.8, 5.7, 5.8, 6.4, 6.5, 7.7,\n",
       "       7.7, 6. , 6.9, 5.6, 7.7, 6.3, 6.7, 7.2, 6.2, 6.1, 6.4, 7.2, 7.4,\n",
       "       7.9, 6.4, 6.3, 6.1, 7.7, 6.3, 6.4, 6. , 6.9, 6.7, 6.9, 5.8, 6.8,\n",
       "       6.7, 6.7, 6.3, 6.5, 6.2, 5.9])"
      ]
     },
     "execution_count": 71,
     "metadata": {},
     "output_type": "execute_result"
    }
   ],
   "source": [
    "# Enter your answer to the question above in this cell.\n",
    "a=np.mean(xTest)\n",
    "b=np.amax(xTest,axis=1)"
   ]
  }
 ],
 "metadata": {
  "kernelspec": {
   "display_name": "Python 3 (ipykernel)",
   "language": "python",
   "name": "python3"
  },
  "language_info": {
   "codemirror_mode": {
    "name": "ipython",
    "version": 3
   },
   "file_extension": ".py",
   "mimetype": "text/x-python",
   "name": "python",
   "nbconvert_exporter": "python",
   "pygments_lexer": "ipython3",
   "version": "3.9.7"
  }
 },
 "nbformat": 4,
 "nbformat_minor": 2
}
